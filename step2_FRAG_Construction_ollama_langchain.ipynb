{
 "cells": [
  {
   "cell_type": "code",
   "execution_count": 1,
   "id": "1",
   "metadata": {},
   "outputs": [],
   "source": [
    "from pgvector.psycopg import register_vector\n",
    "import psycopg\n",
    "import streamlit as st\n",
    "from sentence_transformers import SentenceTransformer\n",
    "import ollama\n",
    "from langchain.chat_models import ChatOllama\n",
    "from langchain_core.prompts import ChatPromptTemplate"
   ]
  },
  {
   "cell_type": "markdown",
   "id": "2",
   "metadata": {},
   "source": [
    "Importation des modules nécessaires."
   ]
  },
  {
   "cell_type": "code",
   "execution_count": 2,
   "id": "3",
   "metadata": {},
   "outputs": [],
   "source": [
    "embedding_model = SentenceTransformer(\"thenlper/gte-large\")"
   ]
  },
  {
   "cell_type": "markdown",
   "id": "4",
   "metadata": {},
   "source": [
    "Initialisation du modèle d'embedding."
   ]
  },
  {
   "cell_type": "code",
   "execution_count": 3,
   "id": "5",
   "metadata": {},
   "outputs": [],
   "source": [
    "conn = psycopg.connect(\n",
    "    user=\"postgres\",\n",
    "    password=\"postgres\",\n",
    "    host=\"127.0.0.1\",\n",
    "    port=\"5432\",\n",
    "    dbname=\"postgres\",\n",
    "    autocommit=True\n",
    ")"
   ]
  },
  {
   "cell_type": "markdown",
   "id": "6",
   "metadata": {},
   "source": [
    "Connexion à la base de données."
   ]
  },
  {
   "cell_type": "code",
   "execution_count": 4,
   "id": "7",
   "metadata": {},
   "outputs": [],
   "source": [
    "def database_search(query):\n",
    "    vector = create_vector(query)\n",
    "    embedding_query = \"[\" + \",\".join(map(str, vector)) + \"]\"\n",
    "    \n",
    "    query_sql = f\"\"\"\n",
    "    SELECT chunk, embedding <#> '{embedding_query}' AS distance\n",
    "    FROM building_rules_vectors_items\n",
    "    ORDER BY embedding <#> '{embedding_query}'\n",
    "    LIMIT 3;\n",
    "    \"\"\"\n",
    "    \n",
    "    data = conn.execute(query_sql).fetchall()\n",
    "    result = [row[0] for row in data]\n",
    "    return result"
   ]
  },
  {
   "cell_type": "markdown",
   "id": "8",
   "metadata": {},
   "source": [
    "Définition de la fonction de recherche dans la base de données."
   ]
  },
  {
   "cell_type": "code",
   "execution_count": 5,
   "id": "9",
   "metadata": {},
   "outputs": [],
   "source": [
    "def create_vector(prompt):\n",
    "    result = embedding_model.encode(prompt)\n",
    "    return result"
   ]
  },
  {
   "cell_type": "markdown",
   "id": "10",
   "metadata": {},
   "source": [
    "Définition de la fonction de création de vecteurs."
   ]
  },
  {
   "cell_type": "code",
   "execution_count": 6,
   "id": "11",
   "metadata": {},
   "outputs": [],
   "source": [
    "def create_prompt(llm_query, database_results):\n",
    "    content_start = (\n",
    "        \"Repond uniquement en fraincais a la question suivant en te basant sur le contexte ci-dessous.\\n\\n\" +\n",
    "        \"Contexte:\\n\"\n",
    "    )\n",
    "\n",
    "    content_end = f\"\\n\\nQuestion: {llm_query}\\nReponse:\"\n",
    "\n",
    "    content = content_start + \"\\n\\n---\\n\\n\".join(database_results) + content_end\n",
    "    prompt = [{'role': 'user', 'content': content}]\n",
    "    return prompt"
   ]
  },
  {
   "cell_type": "markdown",
   "id": "12",
   "metadata": {},
   "source": [
    "Définition de la fonction de création de prompt."
   ]
  },
  {
   "cell_type": "code",
   "execution_count": 7,
   "id": "13",
   "metadata": {},
   "outputs": [],
   "source": [
    "def create_completion(prompt, ollama_model, llm_query):\n",
    "    if ollama_model == \"mistral\":\n",
    "        completion = ollama.chat(model=ollama_model, messages=prompt)\n",
    "        return completion['message']['content']\n",
    "    elif ollama_model == \"mistral-building-rules-model-fr\":\n",
    "        llm = ChatOllama(model=ollama_model)\n",
    "        prompt_template = ChatPromptTemplate.from_messages([(\"human\", \"{question}\")])\n",
    "        chain = prompt_template | llm\n",
    "        ans = chain.invoke({llm_query})\n",
    "        return ans.content"
   ]
  },
  {
   "cell_type": "markdown",
   "id": "14",
   "metadata": {},
   "source": [
    "Définition de la fonction de création de complétion."
   ]
  },
  {
   "cell_type": "code",
   "execution_count": 8,
   "id": "15",
   "metadata": {},
   "outputs": [],
   "source": [
    "with st.form(\"prompt_form\"):\n",
    "    result = \"\"\n",
    "    prompt = \"\"\n",
    "    choice = st.selectbox('Select the model you want ?', ('mistral', 'mistral-building-rules-model-fr'))\n",
    "    ollama_model = choice\n",
    "    semantic_query = st.text_area(\"Database prompt:\", None)\n",
    "    llm_query = st.text_area(\"LLM prompt:\", None)\n",
    "    submitted = st.form_submit_button(\"Send\")\n",
    "    \n",
    "    if submitted:\n",
    "        vector_results = database_search(semantic_query)\n",
    "        prompt = create_prompt(llm_query, vector_results)\n",
    "        print(prompt)\n",
    "        result = create_completion(prompt, ollama_model, llm_query)\n",
    "    \n",
    "    e = st.expander(\"LLM prompt created:\")\n",
    "    e.write(prompt)\n",
    "    st.write(result)"
   ]
  },
  {
   "cell_type": "markdown",
   "id": "16",
   "metadata": {},
   "source": [
    "Interface utilisateur avec Streamlit."
   ]
  }
 ],
 "metadata": {
  "kernelspec": {
   "display_name": "Python 3 (ipykernel)",
   "language": "python",
   "name": "python3"
  },
  "language_info": {
   "codemirror_mode": {
    "name": "ipython",
    "version": 3
   },
   "file_extension": ".py",
   "mimetype": "text/x-python",
   "name": "python",
   "nbconvert_exporter": "python",
   "pygments_lexer": "ipython3",
   "version": "3.11.5"
  }
 },
 "nbformat": 4,
 "nbformat_minor": 5
}
